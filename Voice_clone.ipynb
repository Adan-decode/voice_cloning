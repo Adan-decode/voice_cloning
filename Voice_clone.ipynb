{
  "nbformat": 4,
  "nbformat_minor": 0,
  "metadata": {
    "colab": {
      "name": "Voice Cloning.ipynb",
      "provenance": [],
      "collapsed_sections": []
    },
    "kernelspec": {
      "name": "python3",
      "display_name": "Python 3"
    },
    "accelerator": "GPU"
  },
  "cells": [
    {
      "cell_type": "code",
      "metadata": {
        "id": "V0xH8XNEelKI",
        "colab_type": "code",
        "colab": {}
      },
      "source": [
        "# Cloning the repository\n",
        "!git clone https://github.com/misbah4064/Real-Time-Voice-Cloning.git"
      ],
      "execution_count": null,
      "outputs": []
    },
    {
      "cell_type": "code",
      "metadata": {
        "id": "syA0yeyQeosa",
        "colab_type": "code",
        "colab": {}
      },
      "source": [
        "# Changing the current directory to the repository's directory\n",
        "%cd Real-Time-Voice-Cloning/"
      ],
      "execution_count": null,
      "outputs": []
    },
    {
      "cell_type": "code",
      "metadata": {
        "id": "Cgn7dHe1e5It",
        "colab_type": "code",
        "colab": {}
      },
      "source": [
        "# Installing the dependencies\n",
        "!pip install -q -r requirements.txt\n",
        "!apt-get install -qq libportaudio2"
      ],
      "execution_count": null,
      "outputs": []
    },
    {
      "cell_type": "code",
      "metadata": {
        "id": "wq6gAjdxe5x9",
        "colab_type": "code",
        "colab": {}
      },
      "source": [
        "# Downloading pretrained data and unzipping it\n",
        "!gdown https://drive.google.com/uc?id=1n1sPXvT34yXFLT47QZA6FIRGrwMeSsZc\n",
        "!unzip pretrained.zip"
      ],
      "execution_count": null,
      "outputs": []
    },
    {
      "cell_type": "code",
      "metadata": {
        "id": "OOA_HDrke8fv",
        "colab_type": "code",
        "colab": {}
      },
      "source": [
        "# Initializing all the encoder libraries\n",
        "from IPython.display import Audio\n",
        "from IPython.utils import io\n",
        "from synthesizer.inference import Synthesizer\n",
        "from encoder import inference as encoder\n",
        "from vocoder import inference as vocoder\n",
        "from pathlib import Path\n",
        "import numpy as np\n",
        "import librosa\n",
        "encoder_weights = Path(\"encoder/saved_models/pretrained.pt\")\n",
        "vocoder_weights = Path(\"vocoder/saved_models/pretrained/pretrained.pt\")\n",
        "syn_dir = Path(\"synthesizer/saved_models/logs-pretrained/taco_pretrained\")\n",
        "encoder.load_model(encoder_weights)\n",
        "synthesizer = Synthesizer(syn_dir)\n",
        "vocoder.load_model(vocoder_weights)"
      ],
      "execution_count": null,
      "outputs": []
    },
    {
      "cell_type": "code",
      "metadata": {
        "id": "PEU1RADbwcaB",
        "colab_type": "code",
        "colab": {}
      },
      "source": [
        "text = \"Subscribe to the channel\""
      ],
      "execution_count": null,
      "outputs": []
    },
    {
      "cell_type": "code",
      "metadata": {
        "id": "UKyRu-9XgYlT",
        "colab_type": "code",
        "colab": {}
      },
      "source": [
        "in_fpath = Path(\"trump10.wav\")\n",
        "reprocessed_wav = encoder.preprocess_wav(in_fpath)\n",
        "original_wav, sampling_rate = librosa.load(in_fpath)\n",
        "preprocessed_wav = encoder.preprocess_wav(original_wav, sampling_rate)\n",
        "embed = encoder.embed_utterance(preprocessed_wav)\n",
        "with io.capture_output() as captured:\n",
        "  specs = synthesizer.synthesize_spectrograms([text], [embed])\n",
        "generated_wav = vocoder.infer_waveform(specs[0])\n",
        "generated_wav = np.pad(generated_wav, (0, synthesizer.sample_rate), mode=\"constant\")\n",
        "display(Audio(generated_wav, rate=synthesizer.sample_rate))"
      ],
      "execution_count": null,
      "outputs": []
    },
    {
      "cell_type": "markdown",
      "metadata": {
        "id": "nps3KzWq2snA",
        "colab_type": "text"
      },
      "source": [
        "Follow this YouTube channel for more such tutorials,\n",
        "Link : https://www.youtube.com/user/19daredevill"
      ]
    }
  ]
}